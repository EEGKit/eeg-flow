{
 "cells": [
  {
   "cell_type": "markdown",
   "id": "bf422524-b9a1-4000-bd96-8b24af8a0949",
   "metadata": {},
   "source": [
    "# EEG - Flow\n",
    "\n",
    "## 10. ICA apply\n",
    "This is a copy paste of step 7 with the difference we now interpolate bad channels for the further frequency analyses\n",
    "\n",
    "Last edit: 30.09.2024 15:13"
   ]
  },
  {
   "cell_type": "code",
   "execution_count": 8,
   "id": "57e0632e-0bd8-4006-a4b5-6965d6562be7",
   "metadata": {
    "tags": []
   },
   "outputs": [],
   "source": [
    "import multiprocessing as mp\n",
    "import time\n",
    "from itertools import product\n",
    "\n",
    "from mne import set_log_level as set_log_level_mne\n",
    "\n",
    "from eeg_flow import set_log_level\n",
    "from eeg_flow.utils import parallel\n",
    "from eeg_flow.tasks import apply_ica_interpolate"
   ]
  },
  {
   "cell_type": "code",
   "execution_count": 9,
   "id": "4bb58a37-f1c6-489d-b637-b2e76b2ceef0",
   "metadata": {
    "tags": []
   },
   "outputs": [],
   "source": [
    "set_log_level_mne(\"WARNING\")\n",
    "set_log_level(\"INFO\")"
   ]
  },
  {
   "cell_type": "markdown",
   "id": "533deaff-b830-46cb-9878-f75561aa4c75",
   "metadata": {},
   "source": [
    "The parameters of the file to process are defined below. Locks are created to prevent someone else from running the same task and from writing the same derivatives."
   ]
  },
  {
   "cell_type": "code",
   "execution_count": 14,
   "id": "381b4351-6314-40f1-b776-58e78fb112d0",
   "metadata": {
    "tags": []
   },
   "outputs": [
    {
     "data": {
      "text/plain": [
       "40"
      ]
     },
     "execution_count": 14,
     "metadata": {},
     "output_type": "execute_result"
    }
   ],
   "source": [
    "# PARTICIPANTS_WITH_GROUPS: list[str] = [\"P02-G2\",\"P04-G3\", \"P05-G2\", \"P07-G5\", \"P08-G6\", \n",
    "#     \"P10-G8\", \"P11-G1\", \"P12-G2\", \"P13-G3\", \"P14-G3\", \"P15-G4\", \"P16-G4\", \"P18-G6\", \"P19-G6\", \n",
    "#     \"P21-G7\", \"P22-G7\", \"P23-G7\", \"P25-G1\", \"P26-G2\", \"P27-G8\", \"P30-G4\", \"P31-G5\", \"P32-G6\",\n",
    "#     \"P33-G7\", \"P53-G8\", \"P55-G1\", \"P58-G5\", \"P59-G8\", \"P60-G6\", \"P61-G4\", \"P62-G3\", \"P63-G5\", \n",
    "#     \"P65-G1\", \"P66-G5\", \"P67-G3\", \"P69-G8\", \"P72-G1\", \"P73-G3\", \"P74-G1\", \"P75-G1\"]\n",
    "# len(PARTICIPANTS_WITH_GROUPS)"
   ]
  },
  {
   "cell_type": "code",
   "execution_count": 16,
   "id": "59c1eeb6-b514-47f7-98bd-a70689c0a2a5",
   "metadata": {
    "tags": []
   },
   "outputs": [
    {
     "name": "stdout",
     "output_type": "stream",
     "text": [
      "[['P05', 'G2', 'oddball', 1], ['P05', 'G2', 'oddball', 2], ['P05', 'G2', 'UT', 1], ['P05', 'G2', 'UT', 2], ['P07', 'G5', 'oddball', 1], ['P07', 'G5', 'oddball', 2], ['P07', 'G5', 'UT', 1], ['P07', 'G5', 'UT', 2], ['P08', 'G6', 'oddball', 1], ['P08', 'G6', 'oddball', 2], ['P08', 'G6', 'UT', 1], ['P08', 'G6', 'UT', 2], ['P10', 'G8', 'oddball', 1], ['P10', 'G8', 'oddball', 2], ['P10', 'G8', 'UT', 1], ['P10', 'G8', 'UT', 2], ['P11', 'G1', 'oddball', 1], ['P11', 'G1', 'oddball', 2], ['P11', 'G1', 'UT', 1], ['P11', 'G1', 'UT', 2], ['P12', 'G2', 'oddball', 1], ['P12', 'G2', 'oddball', 2], ['P12', 'G2', 'UT', 1], ['P12', 'G2', 'UT', 2], ['P13', 'G3', 'oddball', 1], ['P13', 'G3', 'oddball', 2], ['P13', 'G3', 'UT', 1], ['P13', 'G3', 'UT', 2], ['P14', 'G3', 'oddball', 1], ['P14', 'G3', 'oddball', 2], ['P14', 'G3', 'UT', 1], ['P14', 'G3', 'UT', 2], ['P15', 'G4', 'oddball', 1], ['P15', 'G4', 'oddball', 2], ['P15', 'G4', 'UT', 1], ['P15', 'G4', 'UT', 2], ['P16', 'G4', 'oddball', 1], ['P16', 'G4', 'oddball', 2], ['P16', 'G4', 'UT', 1], ['P16', 'G4', 'UT', 2], ['P18', 'G6', 'oddball', 1], ['P18', 'G6', 'oddball', 2], ['P18', 'G6', 'UT', 1], ['P18', 'G6', 'UT', 2], ['P19', 'G6', 'oddball', 1], ['P19', 'G6', 'oddball', 2], ['P19', 'G6', 'UT', 1], ['P19', 'G6', 'UT', 2], ['P21', 'G7', 'oddball', 1], ['P21', 'G7', 'oddball', 2], ['P21', 'G7', 'UT', 1], ['P21', 'G7', 'UT', 2], ['P22', 'G7', 'oddball', 1], ['P22', 'G7', 'oddball', 2], ['P22', 'G7', 'UT', 1], ['P22', 'G7', 'UT', 2], ['P23', 'G7', 'oddball', 1], ['P23', 'G7', 'oddball', 2], ['P23', 'G7', 'UT', 1], ['P23', 'G7', 'UT', 2], ['P25', 'G1', 'oddball', 1], ['P25', 'G1', 'oddball', 2], ['P25', 'G1', 'UT', 1], ['P25', 'G1', 'UT', 2], ['P26', 'G2', 'oddball', 1], ['P26', 'G2', 'oddball', 2], ['P26', 'G2', 'UT', 1], ['P26', 'G2', 'UT', 2], ['P27', 'G8', 'oddball', 1], ['P27', 'G8', 'oddball', 2], ['P27', 'G8', 'UT', 1], ['P27', 'G8', 'UT', 2], ['P30', 'G4', 'oddball', 1], ['P30', 'G4', 'oddball', 2], ['P30', 'G4', 'UT', 1], ['P30', 'G4', 'UT', 2], ['P31', 'G5', 'oddball', 1], ['P31', 'G5', 'oddball', 2], ['P31', 'G5', 'UT', 1], ['P31', 'G5', 'UT', 2], ['P32', 'G6', 'oddball', 1], ['P32', 'G6', 'oddball', 2], ['P32', 'G6', 'UT', 1], ['P32', 'G6', 'UT', 2], ['P33', 'G7', 'oddball', 1], ['P33', 'G7', 'oddball', 2], ['P33', 'G7', 'UT', 1], ['P33', 'G7', 'UT', 2], ['P53', 'G8', 'oddball', 1], ['P53', 'G8', 'oddball', 2], ['P53', 'G8', 'UT', 1], ['P53', 'G8', 'UT', 2], ['P55', 'G1', 'oddball', 1], ['P55', 'G1', 'oddball', 2], ['P55', 'G1', 'UT', 1], ['P55', 'G1', 'UT', 2], ['P58', 'G5', 'oddball', 1], ['P58', 'G5', 'oddball', 2], ['P58', 'G5', 'UT', 1], ['P58', 'G5', 'UT', 2], ['P59', 'G8', 'oddball', 1], ['P59', 'G8', 'oddball', 2], ['P59', 'G8', 'UT', 1], ['P59', 'G8', 'UT', 2], ['P60', 'G6', 'oddball', 1], ['P60', 'G6', 'oddball', 2], ['P60', 'G6', 'UT', 1], ['P60', 'G6', 'UT', 2], ['P61', 'G4', 'oddball', 1], ['P61', 'G4', 'oddball', 2], ['P61', 'G4', 'UT', 1], ['P61', 'G4', 'UT', 2], ['P62', 'G3', 'oddball', 1], ['P62', 'G3', 'oddball', 2], ['P62', 'G3', 'UT', 1], ['P62', 'G3', 'UT', 2], ['P63', 'G5', 'oddball', 1], ['P63', 'G5', 'oddball', 2], ['P63', 'G5', 'UT', 1], ['P63', 'G5', 'UT', 2], ['P65', 'G1', 'oddball', 1], ['P65', 'G1', 'oddball', 2], ['P65', 'G1', 'UT', 1], ['P65', 'G1', 'UT', 2], ['P66', 'G5', 'oddball', 1], ['P66', 'G5', 'oddball', 2], ['P66', 'G5', 'UT', 1], ['P66', 'G5', 'UT', 2], ['P67', 'G3', 'oddball', 1], ['P67', 'G3', 'oddball', 2], ['P67', 'G3', 'UT', 1], ['P67', 'G3', 'UT', 2], ['P69', 'G8', 'oddball', 1], ['P69', 'G8', 'oddball', 2], ['P69', 'G8', 'UT', 1], ['P69', 'G8', 'UT', 2], ['P72', 'G1', 'oddball', 1], ['P72', 'G1', 'oddball', 2], ['P72', 'G1', 'UT', 1], ['P72', 'G1', 'UT', 2], ['P73', 'G3', 'oddball', 1], ['P73', 'G3', 'oddball', 2], ['P73', 'G3', 'UT', 1], ['P73', 'G3', 'UT', 2], ['P74', 'G1', 'oddball', 1], ['P74', 'G1', 'oddball', 2], ['P74', 'G1', 'UT', 1], ['P74', 'G1', 'UT', 2], ['P75', 'G1', 'oddball', 1], ['P75', 'G1', 'oddball', 2], ['P75', 'G1', 'UT', 1], ['P75', 'G1', 'UT', 2]]\n"
     ]
    }
   ],
   "source": [
    "# PARTICIPANTS_WITH_GROUPS: list[str] = [\"P34-G8\",\"P35-G1\",\"P36-G3\",\"P37-G2\",\"P38-G8\",\"P40-G8\",\"P42-G5\",\"P43-G4\",\"P44-G6\",\"P45-G2\",\"P46-G3\",\"P47-G7\",\"P48-G8\",\"P49-G1\",\"P50-G2\",\"P51-G3\"]  # list of str \"Pxx-Gy\", e.g. [\"P02-G2\"]\n",
    "PARTICIPANTS_WITH_GROUPS: list[str] = [ \"P05-G2\", \"P07-G5\", \"P08-G6\", \n",
    "     \"P10-G8\", \"P11-G1\", \"P12-G2\", \"P13-G3\", \"P14-G3\", \"P15-G4\", \"P16-G4\", \"P18-G6\", \"P19-G6\", \n",
    "     \"P21-G7\", \"P22-G7\", \"P23-G7\", \"P25-G1\", \"P26-G2\", \"P27-G8\", \"P30-G4\", \"P31-G5\", \"P32-G6\",\n",
    "     \"P33-G7\", \"P53-G8\", \"P55-G1\", \"P58-G5\", \"P59-G8\", \"P60-G6\", \"P61-G4\", \"P62-G3\", \"P63-G5\", \n",
    "     \"P65-G1\", \"P66-G5\", \"P67-G3\", \"P69-G8\", \"P72-G1\", \"P73-G3\", \"P74-G1\", \"P75-G1\"]  # list of str \"Pxx-Gy\", e.g. [\"P02-G2\"]\n",
    "\n",
    "TASKS: list[str]                    = [\"oddball\",\"UT\"]  # [\"oddball\"], [\"UT\"] or [\"oddball\", \"UT\"]\n",
    "RUNS: list[int]                     = [1,2]  # [1], [2] or [1, 2]\n",
    "\n",
    "inputs = [\n",
    "    (t[0].split(\"-\") + list(t[1:]))\n",
    "    for t in product(PARTICIPANTS_WITH_GROUPS, TASKS, RUNS)\n",
    "]\n",
    "print(inputs)"
   ]
  },
  {
   "cell_type": "markdown",
   "id": "b984570e-a88e-451f-b483-23ae661db732",
   "metadata": {},
   "source": [
    "The variable `inputs` contains is a list of list. Each sublist defines one file by its participant, group, task and run attribute. Each sublist is one set of input variable for `apply_ica` which will be picked up by a worker (process) and executed. For each execution, the created derivatives are:\n",
    "- Preprocessed raw recording (`_step10_preprocessed_raw.fif`)\n",
    "\n",
    "This step ends with a visual inspection of the raw recording during which `BAD` segments annotations should be edited based on what was well corrected and what was not."
   ]
  },
  {
   "cell_type": "code",
   "execution_count": null,
   "id": "a5e52916-8eb1-4a27-84b2-c2ca9f605af0",
   "metadata": {
    "tags": []
   },
   "outputs": [
    {
     "name": "stdout",
     "output_type": "stream",
     "text": [
      "Start time 16:56:28\n"
     ]
    },
    {
     "name": "stderr",
     "output_type": "stream",
     "text": [
      " 39%|███████████████████████████████▍                                                 | 59/152 [09:35<12:27,  8.03s/it]"
     ]
    }
   ],
   "source": [
    "%%time\n",
    "current_time = time.strftime(\"%H:%M:%S\")\n",
    "print(\"Start time\", current_time)\n",
    "\n",
    "assert len(inputs) != 0  # sanity-check\n",
    "# each job will need 1 threads and mp.cpu_count() usually returns\n",
    "# the number of threads (usually 2 per core), thus let's spawn 2\n",
    "# process per core maximum.\n",
    "n_jobs = min(len(inputs), (mp.cpu_count() - 2))\n",
    "parallel(apply_ica_interpolate, n_jobs, inputs)"
   ]
  },
  {
   "cell_type": "code",
   "execution_count": null,
   "id": "21b2c7b4-0002-40db-b2f9-1a7460f2880d",
   "metadata": {},
   "outputs": [],
   "source": []
  }
 ],
 "metadata": {
  "kernelspec": {
   "display_name": "eeg-flow",
   "language": "python",
   "name": "eeg-flow"
  },
  "language_info": {
   "codemirror_mode": {
    "name": "ipython",
    "version": 3
   },
   "file_extension": ".py",
   "mimetype": "text/x-python",
   "name": "python",
   "nbconvert_exporter": "python",
   "pygments_lexer": "ipython3",
   "version": "3.10.11"
  }
 },
 "nbformat": 4,
 "nbformat_minor": 5
}
