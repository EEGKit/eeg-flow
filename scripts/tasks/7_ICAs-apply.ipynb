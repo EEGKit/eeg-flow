{
 "cells": [
  {
   "cell_type": "markdown",
   "id": "bf422524-b9a1-4000-bd96-8b24af8a0949",
   "metadata": {},
   "source": [
    "# EEG - Flow\n",
    "\n",
    "## 7. ICA apply\n",
    "This steps requires that a comparison has been done between two reviewers.\n",
    "Both person will either select the best selection or make a new one together, then will rename the file to match the step 5 convention.\n",
    "\n",
    "Last edit: 21.06.2023 19:25"
   ]
  },
  {
   "cell_type": "code",
   "execution_count": 2,
   "id": "57e0632e-0bd8-4006-a4b5-6965d6562be7",
   "metadata": {
    "tags": []
   },
   "outputs": [
    {
     "name": "stderr",
     "output_type": "stream",
     "text": [
      "2024-05-10 11:08:53,693 - numexpr.utils - INFO - Note: NumExpr detected 16 cores but \"NUMEXPR_MAX_THREADS\" not set, so enforcing safe limit of 8.\n",
      "2024-05-10 11:08:53,695 - numexpr.utils - INFO - NumExpr defaulting to 8 threads.\n"
     ]
    }
   ],
   "source": [
    "import multiprocessing as mp\n",
    "import time\n",
    "from itertools import product\n",
    "\n",
    "from mne import set_log_level as set_log_level_mne\n",
    "\n",
    "from eeg_flow import set_log_level\n",
    "from eeg_flow.utils import parallel\n",
    "from eeg_flow.tasks import apply_ica"
   ]
  },
  {
   "cell_type": "code",
   "execution_count": 3,
   "id": "4bb58a37-f1c6-489d-b637-b2e76b2ceef0",
   "metadata": {
    "tags": []
   },
   "outputs": [],
   "source": [
    "set_log_level_mne(\"WARNING\")\n",
    "set_log_level(\"INFO\")"
   ]
  },
  {
   "cell_type": "markdown",
   "id": "533deaff-b830-46cb-9878-f75561aa4c75",
   "metadata": {},
   "source": [
    "The parameters of the file to process are defined below. Locks are created to prevent someone else from running the same task and from writing the same derivatives."
   ]
  },
  {
   "cell_type": "code",
   "execution_count": 4,
   "id": "294fd334-9605-4fb4-921c-ddc4ea7e8a6a",
   "metadata": {},
   "outputs": [
    {
     "ename": "SyntaxError",
     "evalue": "incomplete input (2736383380.py, line 3)",
     "output_type": "error",
     "traceback": [
      "\u001b[1;36m  Cell \u001b[1;32mIn[4], line 3\u001b[1;36m\u001b[0m\n\u001b[1;33m    \"P18-G6\",\"P19-G6\",\"P21-G7\",\"P22-G7\",\"P23-G7\",\"P25-G1\",\"P26-G2\",\"P27-G8\",\"P30-G4\",\"P31-G5\",\u001b[0m\n\u001b[1;37m                                                                                              ^\u001b[0m\n\u001b[1;31mSyntaxError\u001b[0m\u001b[1;31m:\u001b[0m incomplete input\n"
     ]
    }
   ],
   "source": [
    "\"P16-G4\", \"P18-G6\"\n",
    "PARTICIPANTS_WITH_GROUPS: list[str] = [\"P02-G2\",\"P05-G2\",\"P07-G5\",\"P08-G6\",\"P11-G1\",\"P12-G2\",\"P13-G3\",\"P14-G3\",\"P15-G4\",\n",
    "                                      \"P18-G6\",\"P19-G6\",\"P21-G7\",\"P22-G7\",\"P23-G7\",\"P25-G1\",\"P26-G2\",\"P27-G8\",\"P30-G4\",\"P31-G5\","
   ]
  },
  {
   "cell_type": "code",
   "execution_count": 6,
   "id": "59c1eeb6-b514-47f7-98bd-a70689c0a2a5",
   "metadata": {
    "tags": []
   },
   "outputs": [
    {
     "name": "stdout",
     "output_type": "stream",
     "text": [
      "[['P32', 'G6', 'oddball', 1], ['P32', 'G6', 'oddball', 2], ['P32', 'G6', 'UT', 1], ['P32', 'G6', 'UT', 2]]\n"
     ]
    }
   ],
   "source": [
    "PARTICIPANTS_WITH_GROUPS: list[str] = [\"P32-G6\"]  # list of str \"Pxx-Gy\", e.g. [\"P02-G2\"]\n",
    "\n",
    "TASKS: list[str]                    = [\"oddball\",\"UT\"]  # [\"oddball\"], [\"UT\"] or [\"oddball\", \"UT\"]\n",
    "RUNS: list[int]                     = [1,2]  # [1], [2] or [1, 2]\n",
    "\n",
    "inputs = [\n",
    "    (t[0].split(\"-\") + list(t[1:]))\n",
    "    for t in product(PARTICIPANTS_WITH_GROUPS, TASKS, RUNS)\n",
    "]\n",
    "print(inputs)"
   ]
  },
  {
   "cell_type": "markdown",
   "id": "b984570e-a88e-451f-b483-23ae661db732",
   "metadata": {},
   "source": [
    "The variable `inputs` contains is a list of list. Each sublist defines one file by its participant, group, task and run attribute. Each sublist is one set of input variable for `apply_ica` which will be picked up by a worker (process) and executed. For each execution, the created derivatives are:\n",
    "- Preprocessed raw recording (`_step7_preprocessed_raw.fif`)\n",
    "\n",
    "This step ends with a visual inspection of the raw recording during which `BAD` segments annotations should be edited based on what was well corrected and what was not."
   ]
  },
  {
   "cell_type": "code",
   "execution_count": 7,
   "id": "a5e52916-8eb1-4a27-84b2-c2ca9f605af0",
   "metadata": {
    "tags": []
   },
   "outputs": [
    {
     "name": "stdout",
     "output_type": "stream",
     "text": [
      "Start time 11:34:49\n"
     ]
    },
    {
     "name": "stderr",
     "output_type": "stream",
     "text": [
      "100%|████████████████████████████████████████████████████████████████████████████████████| 4/4 [00:35<00:00,  8.97s/it]"
     ]
    },
    {
     "name": "stdout",
     "output_type": "stream",
     "text": [
      "CPU times: total: 78.1 ms\n",
      "Wall time: 35.9 s\n"
     ]
    },
    {
     "name": "stderr",
     "output_type": "stream",
     "text": [
      "\n"
     ]
    },
    {
     "data": {
      "text/plain": [
       "[None, None, None, None]"
      ]
     },
     "execution_count": 7,
     "metadata": {},
     "output_type": "execute_result"
    }
   ],
   "source": [
    "%%time\n",
    "current_time = time.strftime(\"%H:%M:%S\")\n",
    "print(\"Start time\", current_time)\n",
    "\n",
    "assert len(inputs) != 0  # sanity-check\n",
    "# each job will need 1 threads and mp.cpu_count() usually returns\n",
    "# the number of threads (usually 2 per core), thus let's spawn 2\n",
    "# process per core maximum.\n",
    "n_jobs = min(len(inputs), (mp.cpu_count() - 2))\n",
    "parallel(apply_ica, n_jobs, inputs)"
   ]
  },
  {
   "cell_type": "code",
   "execution_count": null,
   "id": "c3511260-b3e8-47b0-9c9e-893bad01e636",
   "metadata": {},
   "outputs": [],
   "source": []
  }
 ],
 "metadata": {
  "kernelspec": {
   "display_name": "eeg-flow",
   "language": "python",
   "name": "eeg-flow"
  },
  "language_info": {
   "codemirror_mode": {
    "name": "ipython",
    "version": 3
   },
   "file_extension": ".py",
   "mimetype": "text/x-python",
   "name": "python",
   "nbconvert_exporter": "python",
   "pygments_lexer": "ipython3",
   "version": "3.10.11"
  }
 },
 "nbformat": 4,
 "nbformat_minor": 5
}
