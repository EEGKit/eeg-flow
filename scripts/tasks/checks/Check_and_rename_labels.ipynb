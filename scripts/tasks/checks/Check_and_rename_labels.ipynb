{
 "cells": [
  {
   "cell_type": "markdown",
   "id": "a89dadd3-ae17-413c-8b28-2f25b8923c28",
   "metadata": {},
   "source": [
    "# EEG - Flow\n",
    "\n",
    "## X. Check all of the annotated signal, in search of wrong annotations labels\n",
    "\n",
    "Step 1: \n",
    "Going through all files and look for wrong labels\n",
    "\n",
    "Step 2: \n",
    "Selectively rename labels where needed\n",
    "\n",
    "Last edit: 18.08.2024 15:50"
   ]
  },
  {
   "cell_type": "markdown",
   "id": "fc7d6fa4-7569-47ef-8622-110c91127692",
   "metadata": {},
   "source": [
    "# Step 1: Going through all files and look for wrong labels"
   ]
  },
  {
   "cell_type": "code",
   "execution_count": 1,
   "id": "13d358c0-0fe7-44ef-9ec8-8e12954d77f5",
   "metadata": {
    "tags": []
   },
   "outputs": [
    {
     "name": "stderr",
     "output_type": "stream",
     "text": [
      "2024-05-07 14:34:40,982 - numexpr.utils - INFO - Note: NumExpr detected 16 cores but \"NUMEXPR_MAX_THREADS\" not set, so enforcing safe limit of 8.\n",
      "2024-05-07 14:34:40,984 - numexpr.utils - INFO - NumExpr defaulting to 8 threads.\n"
     ]
    }
   ],
   "source": [
    "from mne import set_log_level as set_log_level_mne\n",
    "from mne.io import read_raw_fif\n",
    "\n",
    "from eeg_flow import logger, set_log_level\n",
    "from eeg_flow.config import load_config\n",
    "from eeg_flow.utils.bids import get_derivative_folder, get_fname\n",
    "\n",
    "set_log_level_mne(\"WARNING\")\n",
    "set_log_level(\"INFO\")  # change to WARNING to print only bad files"
   ]
  },
  {
   "cell_type": "markdown",
   "id": "1bd5f3df",
   "metadata": {},
   "source": [
    "Find all step-3 files in the dataset."
   ]
  },
  {
   "cell_type": "code",
   "execution_count": 61,
   "id": "04d71d8a-ec59-4ccb-8a24-d5758398ee88",
   "metadata": {
    "tags": []
   },
   "outputs": [],
   "source": [
    "_, derivatives, _ = load_config()\n",
    "files = list(derivatives.glob(\"**/*_step3_with-bads_raw.fif\"))"
   ]
  },
  {
   "cell_type": "code",
   "execution_count": 83,
   "id": "aa1e3a79-e7c0-4163-a89c-003ddf09cca8",
   "metadata": {
    "tags": []
   },
   "outputs": [],
   "source": [
    "files[117:121]\n",
    "\n",
    "files2 = files[117:121]"
   ]
  },
  {
   "cell_type": "markdown",
   "id": "c4492baf",
   "metadata": {},
   "source": [
    "Load each file and check the annotation labels."
   ]
  },
  {
   "cell_type": "code",
   "execution_count": 84,
   "id": "218cc3c6-ff14-4a30-8c4c-bc2b0e244e0e",
   "metadata": {
    "tags": []
   },
   "outputs": [
    {
     "name": "stdout",
     "output_type": "stream",
     "text": [
      "[459873049.<module>] INFO: Participant P32-G6, task oddball, run 1: OK\n",
      "[459873049.<module>] INFO: Participant P32-G6, task oddball, run 2: OK (no bads)\n",
      "[459873049.<module>] INFO: Participant P32-G6, task UT, run 1: OK\n",
      "[459873049.<module>] INFO: Participant P32-G6, task UT, run 2: OK\n"
     ]
    }
   ],
   "source": [
    "bad_files = list()\n",
    "for file in files2:\n",
    "    raw = read_raw_fif(file)\n",
    "\n",
    "    # parse participant, task and run information\n",
    "    key_info = file.__str__().split(\"\\\\\")[6].split(\"_\")\n",
    "    participant = key_info[0][4:]\n",
    "    task = key_info[1].split(\"-\")[1]\n",
    "    run = key_info[2].split(\"-\")[1]\n",
    "\n",
    "    # check annotation labels\n",
    "    labels = set(raw.annotations.description)\n",
    "    if len(set(labels).difference({\"bad_\", \"standard\", \"novel\", \"target\"})) != 0:\n",
    "        logger.warning(\n",
    "            \"Participant %s, task %s, run %s has erroneous labels: %s\",\n",
    "            participant,\n",
    "            task,\n",
    "            run,\n",
    "            labels,\n",
    "        )\n",
    "        bad_files.append(file)\n",
    "    else:\n",
    "        logger.info(\n",
    "            \"Participant %s, task %s, run %s: OK%s\",\n",
    "            participant,\n",
    "            task,\n",
    "            run,\n",
    "            \"\" if \"bad_\" in labels else \" (no bads)\",\n",
    "        )"
   ]
  },
  {
   "cell_type": "markdown",
   "id": "b8735a51",
   "metadata": {},
   "source": [
    "Summary of files to amend:"
   ]
  },
  {
   "cell_type": "code",
   "execution_count": null,
   "id": "14a86db0",
   "metadata": {},
   "outputs": [],
   "source": [
    "for file in bad_files:\n",
    "    print(file)"
   ]
  },
  {
   "cell_type": "markdown",
   "id": "f4c91180-3f27-4384-8536-1694953edbdf",
   "metadata": {},
   "source": [
    "# Step 2: Selectively rename labels where needed"
   ]
  },
  {
   "cell_type": "markdown",
   "id": "37078948",
   "metadata": {},
   "source": [
    "Select the participant, task and run you want to update."
   ]
  },
  {
   "cell_type": "code",
   "execution_count": null,
   "id": "bab0214b-1083-41de-8157-6e46a11fc00d",
   "metadata": {
    "tags": []
   },
   "outputs": [],
   "source": [
    "participant_group: str = \"P48-G8\"\n",
    "task: str = \"UT\"\n",
    "run: int = 2"
   ]
  },
  {
   "cell_type": "code",
   "execution_count": null,
   "id": "47de3568-ac18-4de2-85f4-bdb5a556545b",
   "metadata": {
    "tags": []
   },
   "outputs": [],
   "source": [
    "participant = participant_group.split(\"-\")[0]\n",
    "group = participant_group.split(\"-\")[1]\n",
    "derivatives_folder = get_derivative_folder(derivatives, participant, group, task, run)\n",
    "fname_stem = get_fname(participant, group, task, run)\n",
    "fname = derivatives_folder / f\"{fname_stem}_step3_with-bads_raw.fif\"\n",
    "raw = read_raw_fif(fname)\n",
    "print (set(raw.annotations.description))"
   ]
  },
  {
   "cell_type": "markdown",
   "id": "ce983944",
   "metadata": {},
   "source": [
    "Use `annotation.rename{\"XXX\": \"bad_\"}` to rename the annotations."
   ]
  },
  {
   "cell_type": "code",
   "execution_count": null,
   "id": "6bfa08e4-3918-4095-a72d-ee0eee0ad814",
   "metadata": {},
   "outputs": [],
   "source": [
    "raw.annotations.rename({\"badswronglabel_\": \"bad_\"})\n",
    "print (set(raw.annotations.description))"
   ]
  },
  {
   "cell_type": "code",
   "execution_count": null,
   "id": "32b56b77-b0fc-476a-a4d1-740168baf8b1",
   "metadata": {},
   "outputs": [],
   "source": [
    "fname_write = derivatives_folder / f\"{fname_stem}_step3_with-bads_bis_raw.fif\"\n",
    "raw.save(fname_write, overwrite=False)"
   ]
  }
 ],
 "metadata": {
  "kernelspec": {
   "display_name": "eeg-flow",
   "language": "python",
   "name": "eeg-flow"
  },
  "language_info": {
   "codemirror_mode": {
    "name": "ipython",
    "version": 3
   },
   "file_extension": ".py",
   "mimetype": "text/x-python",
   "name": "python",
   "nbconvert_exporter": "python",
   "pygments_lexer": "ipython3",
   "version": "3.10.11"
  }
 },
 "nbformat": 4,
 "nbformat_minor": 5
}
