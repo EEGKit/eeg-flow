{
 "cells": [
  {
   "cell_type": "markdown",
   "id": "bf422524-b9a1-4000-bd96-8b24af8a0949",
   "metadata": {},
   "source": [
    "# EEG - Flow\n",
    "\n",
    "## 2. Bridges and auto bads channels\n",
    "\n",
    "Determine gel bridges and save the gel bridges topography. Interpolate gel bridges if possible. Mark bad channels with the PREP pipeline.\n",
    "\n",
    "Last edit: 21.06.2023 18:57\n",
    "@anguyen"
   ]
  },
  {
   "cell_type": "code",
   "execution_count": 2,
   "id": "cbeccdb0-6007-485d-8e8d-1b5f6ab9af5d",
   "metadata": {
    "tags": []
   },
   "outputs": [
    {
     "name": "stderr",
     "output_type": "stream",
     "text": [
      "2024-04-19 16:10:39,170 - numexpr.utils - INFO - Note: NumExpr detected 16 cores but \"NUMEXPR_MAX_THREADS\" not set, so enforcing safe limit of 8.\n",
      "2024-04-19 16:10:39,172 - numexpr.utils - INFO - NumExpr defaulting to 8 threads.\n"
     ]
    }
   ],
   "source": [
    "import multiprocessing as mp\n",
    "import time\n",
    "from itertools import product\n",
    "\n",
    "from mne import set_log_level as set_log_level_mne\n",
    "from mne.viz import set_browser_backend\n",
    "\n",
    "from eeg_flow import set_log_level\n",
    "from eeg_flow.utils import parallel\n",
    "from eeg_flow.tasks import bridges_and_autobads"
   ]
  },
  {
   "cell_type": "code",
   "execution_count": 3,
   "id": "09ae2b49-60bb-4855-a837-d50ae893d501",
   "metadata": {
    "tags": []
   },
   "outputs": [],
   "source": [
    "set_log_level_mne(\"WARNING\")\n",
    "set_log_level(\"INFO\")\n",
    "\n",
    "%matplotlib qt\n",
    "set_browser_backend(\"qt\")"
   ]
  },
  {
   "cell_type": "markdown",
   "id": "533deaff-b830-46cb-9878-f75561aa4c75",
   "metadata": {},
   "source": [
    "The parameters of the file to process are defined below. Locks are created to prevent someone else from running the same task and from writing the same derivatives."
   ]
  },
  {
   "cell_type": "code",
   "execution_count": 6,
   "id": "68c115d9-2e75-4b6d-9dcb-71b1e74a8739",
   "metadata": {
    "tags": []
   },
   "outputs": [
    {
     "name": "stdout",
     "output_type": "stream",
     "text": [
      "[['S24', 'G6', 'oddball', 1], ['S24', 'G6', 'oddball', 2], ['S24', 'G6', 'UT', 1], ['S24', 'G6', 'UT', 2]]\n"
     ]
    }
   ],
   "source": [
    "PARTICIPANTS_WITH_GROUPS: list[str] = [\"S24-G6\"]  # list of str \"Pxx-Gy\", e.g. [\"P02-G2\"]\n",
    "TASKS: list[str]                    = [\"oddball\",\"UT\"]  # [\"oddball\"], [\"UT\"] or [\"oddball\", \"UT\"]\n",
    "RUNS: list[int]                     = [1,2]  # [1], [2] or [1, 2]\n",
    "\n",
    "inputs = [\n",
    "    (t[0].split(\"-\") + list(t[1:]))\n",
    "    for t in product(PARTICIPANTS_WITH_GROUPS, TASKS, RUNS)\n",
    "]\n",
    "print(inputs)"
   ]
  },
  {
   "cell_type": "markdown",
   "id": "a194c160-a63b-44ee-816b-b2345fff82f8",
   "metadata": {},
   "source": [
    "This step is divided in:\n",
    "- Visualization of gel-bridges and rejection of the dataset if required\n",
    "- Interpolation of gel-bridges\n",
    "- Annotation of bad channels with the PREP pipeline\n",
    "\n",
    "The created derivatives are:\n",
    "- Plot of the gel-bridges (`_bridges.svg`)\n",
    "- Raw with interpolated gel-bridged channels (`_with-bads_raw.fif`)\n",
    "\n",
    "More information about gel bridgs in this [MNE tutorial](https://mne.tools/stable/auto_examples/preprocessing/eeg_bridging.html)."
   ]
  },
  {
   "cell_type": "code",
   "execution_count": null,
   "id": "353cbc85-70b8-4966-b739-77b9347ceaa1",
   "metadata": {
    "tags": []
   },
   "outputs": [
    {
     "name": "stdout",
     "output_type": "stream",
     "text": [
      "Start time 16:33:39\n"
     ]
    },
    {
     "name": "stderr",
     "output_type": "stream",
     "text": [
      " 75%|███████████████████████████████████████████████████████████████                     | 3/4 [02:09<00:40, 40.30s/it]"
     ]
    }
   ],
   "source": [
    "%%time\n",
    "current_time = time.strftime(\"%H:%M:%S\")\n",
    "print(\"Start time\", current_time)\n",
    "\n",
    "assert len(inputs) != 0  # sanity-check\n",
    "n_jobs = min(len(inputs), mp.cpu_count() - 2)\n",
    "parallel(bridges_and_autobads, n_jobs, inputs)"
   ]
  },
  {
   "cell_type": "code",
   "execution_count": null,
   "id": "b4bd07da-236a-4518-acd0-368b55d42bfc",
   "metadata": {},
   "outputs": [],
   "source": []
  }
 ],
 "metadata": {
  "kernelspec": {
   "display_name": "eeg-flow",
   "language": "python",
   "name": "eeg-flow"
  },
  "language_info": {
   "codemirror_mode": {
    "name": "ipython",
    "version": 3
   },
   "file_extension": ".py",
   "mimetype": "text/x-python",
   "name": "python",
   "nbconvert_exporter": "python",
   "pygments_lexer": "ipython3",
   "version": "3.10.11"
  }
 },
 "nbformat": 4,
 "nbformat_minor": 5
}
