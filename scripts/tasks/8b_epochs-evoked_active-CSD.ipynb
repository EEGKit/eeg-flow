{
 "cells": [
  {
   "cell_type": "markdown",
   "id": "bf422524-b9a1-4000-bd96-8b24af8a0949",
   "metadata": {},
   "source": [
    "# EEG - Flow\n",
    "\n",
    "## 8b. Epochs Evokeds CSD\n",
    "\n",
    "\n",
    "Last edit: 14.02.2024 13:40\n",
    "@anguyen"
   ]
  },
  {
   "cell_type": "code",
   "execution_count": 1,
   "id": "31ac5d8d-c109-48d2-868e-5560013d0aed",
   "metadata": {
    "tags": []
   },
   "outputs": [
    {
     "name": "stderr",
     "output_type": "stream",
     "text": [
      "2024-06-13 16:22:27,375 - numexpr.utils - INFO - Note: NumExpr detected 16 cores but \"NUMEXPR_MAX_THREADS\" not set, so enforcing safe limit of 8.\n",
      "2024-06-13 16:22:27,377 - numexpr.utils - INFO - NumExpr defaulting to 8 threads.\n"
     ]
    }
   ],
   "source": [
    "import time\n",
    "from itertools import product\n",
    "import multiprocessing as mp\n",
    "\n",
    "from mne import set_log_level as set_log_level_mne\n",
    "\n",
    "from eeg_flow import set_log_level\n",
    "from eeg_flow.utils import parallel\n",
    "from eeg_flow.tasks import response_to_CSD"
   ]
  },
  {
   "cell_type": "markdown",
   "id": "533deaff-b830-46cb-9878-f75561aa4c75",
   "metadata": {},
   "source": [
    "The parameters of the file to process are defined below. Locks are created to prevent someone else from running the same task and from writing the same derivatives."
   ]
  },
  {
   "cell_type": "code",
   "execution_count": 2,
   "id": "94cafc23",
   "metadata": {
    "tags": []
   },
   "outputs": [],
   "source": [
    "set_log_level_mne(\"WARNING\")\n",
    "set_log_level(\"INFO\")"
   ]
  },
  {
   "cell_type": "code",
   "execution_count": 9,
   "id": "56f36cbf",
   "metadata": {
    "tags": []
   },
   "outputs": [
    {
     "name": "stdout",
     "output_type": "stream",
     "text": [
      "[['P75', 'G1', 'UT', 1, '2000resp'], ['P75', 'G1', 'UT', 1, '400200resp'], ['P75', 'G1', 'UT', 2, '2000resp'], ['P75', 'G1', 'UT', 2, '400200resp']]\n"
     ]
    }
   ],
   "source": [
    "PARTICIPANTS_WITH_GROUPS: list[str] =[\"P75-G1\"]\n",
    "\n",
    "TASKS: list[str]                    = [\"UT\",]  # [\"oddball\"], [\"UT\"] or [\"oddball\", \"UT\"]\n",
    "RUNS: list[int]                     = [1,2]  # [1], [2] or [1, 2]\n",
    "BC_RESPONSE: list[str]              = [\"2000resp\",\"400200resp\"]\n",
    "inputs = [\n",
    "    (t[0].split(\"-\") + list(t[1:]))\n",
    "    for t in product(PARTICIPANTS_WITH_GROUPS, TASKS, RUNS, BC_RESPONSE)\n",
    "]\n",
    "print(inputs)"
   ]
  },
  {
   "cell_type": "code",
   "execution_count": 10,
   "id": "e8906a8b",
   "metadata": {
    "tags": []
   },
   "outputs": [
    {
     "name": "stdout",
     "output_type": "stream",
     "text": [
      "Start time 16:30:17\n"
     ]
    },
    {
     "name": "stderr",
     "output_type": "stream",
     "text": [
      "100%|████████████████████████████████████████████████████████████████████████████████████| 4/4 [00:09<00:00,  2.37s/it]"
     ]
    },
    {
     "name": "stdout",
     "output_type": "stream",
     "text": [
      "CPU times: total: 31.2 ms\n",
      "Wall time: 9.56 s\n"
     ]
    },
    {
     "name": "stderr",
     "output_type": "stream",
     "text": [
      "\n"
     ]
    },
    {
     "data": {
      "text/plain": [
       "[None, None, None, None]"
      ]
     },
     "execution_count": 10,
     "metadata": {},
     "output_type": "execute_result"
    }
   ],
   "source": [
    "%%time\n",
    "current_time = time.strftime(\"%H:%M:%S\")\n",
    "print(\"Start time\", current_time)\n",
    "\n",
    "assert len(inputs) != 0  # sanity-check\n",
    "# each job will need 1 threads and mp.cpu_count() usually returns\n",
    "# the number of threads (usually 2 per core), thus let's spawn 2\n",
    "# process per core maximum.\n",
    "n_jobs = min(len(inputs), (mp.cpu_count() - 2))\n",
    "parallel(response_to_CSD, n_jobs, inputs)"
   ]
  },
  {
   "cell_type": "markdown",
   "id": "d9ae99dd-ba8f-4a44-8ac3-782dbdfbf8ac",
   "metadata": {},
   "source": [
    "Output of step 8b\n",
    "- CSD transformed response-locked\n",
    "  - Epochs (-cleaned-epo.fif)\n",
    "  - Evoked (-standard_evoked-ave.fif)"
   ]
  },
  {
   "cell_type": "code",
   "execution_count": null,
   "id": "a513520a-7c89-4859-abad-d4b36df358b6",
   "metadata": {},
   "outputs": [],
   "source": []
  }
 ],
 "metadata": {
  "kernelspec": {
   "display_name": "eeg-flow",
   "language": "python",
   "name": "eeg-flow"
  },
  "language_info": {
   "codemirror_mode": {
    "name": "ipython",
    "version": 3
   },
   "file_extension": ".py",
   "mimetype": "text/x-python",
   "name": "python",
   "nbconvert_exporter": "python",
   "pygments_lexer": "ipython3",
   "version": "3.10.11"
  }
 },
 "nbformat": 4,
 "nbformat_minor": 5
}
