{
 "cells": [
  {
   "cell_type": "markdown",
   "id": "bf422524-b9a1-4000-bd96-8b24af8a0949",
   "metadata": {},
   "source": [
    "# EEG - Flow\n",
    "\n",
    "## 8b. Epochs Evokeds CSD\n",
    "\n",
    "\n",
    "Last edit: 14.02.2024 13:40\n",
    "@anguyen"
   ]
  },
  {
   "cell_type": "code",
   "execution_count": 2,
   "id": "31ac5d8d-c109-48d2-868e-5560013d0aed",
   "metadata": {
    "tags": []
   },
   "outputs": [
    {
     "name": "stderr",
     "output_type": "stream",
     "text": [
      "2024-08-14 14:51:46,326 - numexpr.utils - INFO - Note: NumExpr detected 16 cores but \"NUMEXPR_MAX_THREADS\" not set, so enforcing safe limit of 8.\n",
      "2024-08-14 14:51:46,328 - numexpr.utils - INFO - NumExpr defaulting to 8 threads.\n"
     ]
    }
   ],
   "source": [
    "import time\n",
    "from itertools import product\n",
    "import multiprocessing as mp\n",
    "\n",
    "from mne import set_log_level as set_log_level_mne\n",
    "\n",
    "from eeg_flow import set_log_level\n",
    "from eeg_flow.utils import parallel\n",
    "from eeg_flow.tasks import response_to_CSD, stimlocked_to_CSD"
   ]
  },
  {
   "cell_type": "markdown",
   "id": "533deaff-b830-46cb-9878-f75561aa4c75",
   "metadata": {},
   "source": [
    "The parameters of the file to process are defined below. Locks are created to prevent someone else from running the same task and from writing the same derivatives."
   ]
  },
  {
   "cell_type": "code",
   "execution_count": 3,
   "id": "94cafc23",
   "metadata": {
    "tags": []
   },
   "outputs": [],
   "source": [
    "set_log_level_mne(\"WARNING\")\n",
    "set_log_level(\"INFO\")"
   ]
  },
  {
   "cell_type": "markdown",
   "id": "bc4d102d-3921-441b-9fb4-caab170c3c82",
   "metadata": {},
   "source": [
    "# For response locked"
   ]
  },
  {
   "cell_type": "code",
   "execution_count": 15,
   "id": "df055601-662f-4bc3-8d2e-587bcbbb627c",
   "metadata": {},
   "outputs": [
    {
     "name": "stdout",
     "output_type": "stream",
     "text": [
      "[['P75', 'G1', 'oddball', 2, '2000resp_freq']]\n"
     ]
    }
   ],
   "source": [
    "# PARTICIPANTS_WITH_GROUPS: list[str] =     [\"P02-G2\", \"P04-G3\", \"P05-G2\", \"P07-G5\", \"P08-G6\", \"P10-G8\", \"P11-G1\", \"P12-G2\", \"P13-G3\", \"P14-G3\", \"P15-G4\", \"P16-G4\", \n",
    "#  \"P18-G6\", \"P19-G6\", \"P21-G7\", \"P22-G7\", \"P23-G7\", \"P25-G1\", \"P26-G2\", \"P27-G8\", \"P30-G4\", \"P31-G5\", \"P32-G6\", \"P33-G7\", \n",
    "#  \"P53-G8\", \"P55-G1\", \"P58-G5\", \"P59-G8\", \"P60-G6\", \"P61-G4\", \"P62-G3\", \"P63-G5\", \"P65-G1\", \"P66-G5\", \"P67-G3\", \"P69-G8\", \n",
    "#  \"P71-G8\", \"P72-G1\", \"P73-G3\", \"P74-G1\", \"P75-G1\"]\n",
    "\n",
    "PARTICIPANTS_WITH_GROUPS: list[str] =     [\"P75-G1\",]\n",
    "\n",
    "\n",
    "TASKS: list[str]                    = [\"oddball\"]  # [\"oddball\"], [\"UT\"] or [\"oddball\", \"UT\"]\n",
    "RUNS: list[int]                     = [2]  # [1], [2] or [1, 2]\n",
    "BC_RESPONSE: list[str]              = [\"2000resp_freq\"]#\"2000resp\",\"400200resp\"\n",
    "inputs = [\n",
    "    (t[0].split(\"-\") + list(t[1:]))\n",
    "    for t in product(PARTICIPANTS_WITH_GROUPS, TASKS, RUNS, BC_RESPONSE)\n",
    "]\n",
    "print(inputs)"
   ]
  },
  {
   "cell_type": "code",
   "execution_count": 16,
   "id": "e8906a8b",
   "metadata": {
    "tags": []
   },
   "outputs": [
    {
     "name": "stdout",
     "output_type": "stream",
     "text": [
      "Start time 15:50:17\n"
     ]
    },
    {
     "name": "stderr",
     "output_type": "stream",
     "text": [
      "100%|████████████████████████████████████████████████████████████████████████████████████| 1/1 [00:02<00:00,  2.07s/it]"
     ]
    },
    {
     "name": "stdout",
     "output_type": "stream",
     "text": [
      "CPU times: total: 0 ns\n",
      "Wall time: 2.12 s\n"
     ]
    },
    {
     "name": "stderr",
     "output_type": "stream",
     "text": [
      "\n"
     ]
    },
    {
     "data": {
      "text/plain": [
       "[None]"
      ]
     },
     "execution_count": 16,
     "metadata": {},
     "output_type": "execute_result"
    }
   ],
   "source": [
    "%%time\n",
    "current_time = time.strftime(\"%H:%M:%S\")\n",
    "print(\"Start time\", current_time)\n",
    "\n",
    "assert len(inputs) != 0  # sanity-check\n",
    "# each job will need 1 threads and mp.cpu_count() usually returns\n",
    "# the number of threads (usually 2 per core), thus let's spawn 2\n",
    "# process per core maximum.\n",
    "n_jobs = min(len(inputs), (mp.cpu_count() - 2))\n",
    "parallel(response_to_CSD, n_jobs, inputs)"
   ]
  },
  {
   "cell_type": "markdown",
   "id": "d9ae99dd-ba8f-4a44-8ac3-782dbdfbf8ac",
   "metadata": {},
   "source": [
    "Output of step 8b (response-locked)\n",
    "- CSD transformed response-locked\n",
    "  - Epochs (_step8b_responselocked-{BC_response}_CSD-cleaned-epo.fif)\n",
    "  - Evoked (_steb8b_responselocked-{BC_response}_CSD-ave.fif)"
   ]
  },
  {
   "cell_type": "markdown",
   "id": "08ce22df-9695-4ddc-9a65-ae849ad55332",
   "metadata": {},
   "source": [
    "# For stim locked"
   ]
  },
  {
   "cell_type": "code",
   "execution_count": 11,
   "id": "23edf70f-4f4c-4455-bd8f-89e7b5a0468d",
   "metadata": {
    "tags": []
   },
   "outputs": [
    {
     "name": "stdout",
     "output_type": "stream",
     "text": [
      "[['P75', 'G1', 'oddball', 2]]\n"
     ]
    }
   ],
   "source": [
    "# PARTICIPANTS_WITH_GROUPS: list[str] =     [\"P02-G2\", \"P04-G3\", \"P05-G2\", \"P07-G5\", \"P08-G6\", \"P10-G8\", \"P11-G1\", \"P12-G2\", \"P13-G3\", \"P14-G3\", \"P15-G4\", \"P16-G4\", \n",
    "#  \"P18-G6\", \"P19-G6\", \"P21-G7\", \"P22-G7\", \"P23-G7\", \"P25-G1\", \"P26-G2\", \"P27-G8\", \"P30-G4\", \"P31-G5\", \"P32-G6\", \"P33-G7\", \n",
    "#  \"P53-G8\", \"P55-G1\", \"P58-G5\", \"P59-G8\", \"P60-G6\", \"P61-G4\", \"P62-G3\", \"P63-G5\", \"P65-G1\", \"P66-G5\", \"P67-G3\", \"P69-G8\", \n",
    "#  \"P71-G8\", \"P72-G1\", \"P73-G3\", \"P74-G1\", \"P75-G1\"]\n",
    "\n",
    "PARTICIPANTS_WITH_GROUPS: list[str] =     [\"P75-G1\"]\n",
    "\n",
    "\n",
    "TASKS: list[str]                    = [\"oddball\"]  # [\"oddball\"], [\"UT\"] or [\"oddball\", \"UT\"]\n",
    "RUNS: list[int]                     = [2]  # [1], [2] or [1, 2]\n",
    "inputs = [\n",
    "    (t[0].split(\"-\") + list(t[1:]))\n",
    "    for t in product(PARTICIPANTS_WITH_GROUPS, TASKS, RUNS)\n",
    "]\n",
    "print(inputs)"
   ]
  },
  {
   "cell_type": "code",
   "execution_count": 12,
   "id": "35f07359-ae25-4521-b6ab-2f911577b646",
   "metadata": {
    "tags": []
   },
   "outputs": [
    {
     "name": "stdout",
     "output_type": "stream",
     "text": [
      "Start time 15:17:45\n"
     ]
    },
    {
     "name": "stderr",
     "output_type": "stream",
     "text": [
      "100%|████████████████████████████████████████████████████████████████████████████████████| 1/1 [00:02<00:00,  2.36s/it]"
     ]
    },
    {
     "name": "stdout",
     "output_type": "stream",
     "text": [
      "CPU times: total: 0 ns\n",
      "Wall time: 2.38 s\n"
     ]
    },
    {
     "name": "stderr",
     "output_type": "stream",
     "text": [
      "\n"
     ]
    },
    {
     "data": {
      "text/plain": [
       "[None]"
      ]
     },
     "execution_count": 12,
     "metadata": {},
     "output_type": "execute_result"
    }
   ],
   "source": [
    "%%time\n",
    "current_time = time.strftime(\"%H:%M:%S\")\n",
    "print(\"Start time\", current_time)\n",
    "\n",
    "assert len(inputs) != 0  # sanity-check\n",
    "# each job will need 1 threads and mp.cpu_count() usually returns\n",
    "# the number of threads (usually 2 per core), thus let's spawn 2\n",
    "# process per core maximum.\n",
    "n_jobs = min(len(inputs), (mp.cpu_count() - 2))\n",
    "parallel(stimlocked_to_CSD, n_jobs, inputs)"
   ]
  },
  {
   "cell_type": "markdown",
   "id": "fbfa4cda-f5c7-469b-9e14-246cb5117168",
   "metadata": {
    "tags": []
   },
   "source": [
    "Output of step 8b stim-locked\n",
    "- CSD transformed stim-locked\n",
    "  - Evoked (_steb8b_stimlocked-{event}_CSD-ave.fif)"
   ]
  }
 ],
 "metadata": {
  "kernelspec": {
   "display_name": "eeg-flow",
   "language": "python",
   "name": "eeg-flow"
  },
  "language_info": {
   "codemirror_mode": {
    "name": "ipython",
    "version": 3
   },
   "file_extension": ".py",
   "mimetype": "text/x-python",
   "name": "python",
   "nbconvert_exporter": "python",
   "pygments_lexer": "ipython3",
   "version": "3.10.11"
  }
 },
 "nbformat": 4,
 "nbformat_minor": 5
}
