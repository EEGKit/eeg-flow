{
 "cells": [
  {
   "cell_type": "markdown",
   "id": "bf422524-b9a1-4000-bd96-8b24af8a0949",
   "metadata": {},
   "source": [
    "# EEG - Flow\n",
    "\n",
    "## 6. ICA compare ICs selections\n",
    "\n",
    "Last edit: 21.06.2023 19:24"
   ]
  },
  {
   "cell_type": "code",
   "execution_count": 3,
   "id": "57e0632e-0bd8-4006-a4b5-6965d6562be7",
   "metadata": {
    "tags": []
   },
   "outputs": [
    {
     "name": "stderr",
     "output_type": "stream",
     "text": [
      "2024-05-10 11:00:05,496 - numexpr.utils - INFO - Note: NumExpr detected 16 cores but \"NUMEXPR_MAX_THREADS\" not set, so enforcing safe limit of 8.\n",
      "2024-05-10 11:00:05,498 - numexpr.utils - INFO - NumExpr defaulting to 8 threads.\n"
     ]
    }
   ],
   "source": [
    "from mne import set_log_level as set_log_level_mne\n",
    "from mne.viz import set_browser_backend\n",
    "\n",
    "from eeg_flow import set_log_level\n",
    "from eeg_flow.tasks import compare_labels"
   ]
  },
  {
   "cell_type": "code",
   "execution_count": 4,
   "id": "ed985e04-4f8a-4f56-a833-9aee2cbf5d19",
   "metadata": {},
   "outputs": [],
   "source": [
    "set_log_level_mne(\"WARNING\")\n",
    "set_log_level(\"INFO\")\n",
    "\n",
    "%matplotlib qt\n",
    "set_browser_backend(\"qt\")"
   ]
  },
  {
   "cell_type": "markdown",
   "id": "533deaff-b830-46cb-9878-f75561aa4c75",
   "metadata": {},
   "source": [
    "The parameters of the file to process are defined below. Locks are created to prevent someone else from running the same task and from writing the same derivatives."
   ]
  },
  {
   "cell_type": "code",
   "execution_count": 76,
   "id": "0389c5dc-fe7e-437f-8cc2-a608b40e242f",
   "metadata": {
    "tags": []
   },
   "outputs": [],
   "source": [
    "PARTICIPANT: str = \"P24\"  # e.g. \"P02\"\n",
    "GROUP: str       = \"G8\"  # e.g. \"G2\"\n",
    "TASK: str        = \"UT\"  # \"oddball\" or \"UT\"\n",
    "RUN: int         = 2  # 1 or 2\n",
    "ICA_NB: int      = 2  # 1 or 2\n",
    "\n",
    "REVIEWER1: str = \"nguyenar\"\n",
    "REVIEWER2: str = \"Shadee\""
   ]
  },
  {
   "cell_type": "markdown",
   "id": "39f08c1d-f132-4fe9-825e-99233c22d3df",
   "metadata": {},
   "source": [
    "This step load the ICAs and labels attributed by both reviewers. ICs with different labels are plotted again and re-labelled. \n",
    "\n",
    "The created derivatives are:\n",
    "- ICA decomposition, with reviewed excluded ICs (`_step6_reviewed_{idx}_ica.fif`)\n",
    "- Plots of the ICA topographies (in `plots/ica`)"
   ]
  },
  {
   "cell_type": "code",
   "execution_count": 77,
   "id": "3d61d22f-4c04-44ff-9237-b8c26d1fc91a",
   "metadata": {},
   "outputs": [
    {
     "name": "stdout",
     "output_type": "stream",
     "text": [
      "[ica_decomposition.compare_labels] INFO: Set of common excluded ICs: [0, 1]\n",
      "[ica_decomposition.compare_labels] INFO: Set of different excluded ICs: [29, 22]\n"
     ]
    },
    {
     "name": "stderr",
     "output_type": "stream",
     "text": [
      "2024-05-10 13:31:00,915 - qdarkstyle - INFO - QSS file successfully loaded.\n",
      "2024-05-10 13:31:00,916 - qdarkstyle - INFO - Found version patches to be applied.\n",
      "2024-05-10 13:31:00,916 - qdarkstyle - INFO - Found application patches to be applied.\n"
     ]
    },
    {
     "name": "stdout",
     "output_type": "stream",
     "text": [
      "Not setting metadata\n",
      "464 matching events found\n",
      "No baseline correction applied\n",
      "0 projection items activated\n",
      "[ica_decomposition.compare_labels] INFO: Saving derivatives.\n"
     ]
    }
   ],
   "source": [
    "compare_labels(PARTICIPANT, GROUP, TASK, RUN, ICA_NB, (REVIEWER1, REVIEWER2))"
   ]
  },
  {
   "cell_type": "code",
   "execution_count": null,
   "id": "639ffb5c-9e13-431c-8ac6-1bc8333293ac",
   "metadata": {},
   "outputs": [],
   "source": []
  }
 ],
 "metadata": {
  "kernelspec": {
   "display_name": "eeg-flow",
   "language": "python",
   "name": "eeg-flow"
  },
  "language_info": {
   "codemirror_mode": {
    "name": "ipython",
    "version": 3
   },
   "file_extension": ".py",
   "mimetype": "text/x-python",
   "name": "python",
   "nbconvert_exporter": "python",
   "pygments_lexer": "ipython3",
   "version": "3.10.11"
  }
 },
 "nbformat": 4,
 "nbformat_minor": 5
}
