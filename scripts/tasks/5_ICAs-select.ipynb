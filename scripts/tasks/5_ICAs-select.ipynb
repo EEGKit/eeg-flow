{
 "cells": [
  {
   "cell_type": "markdown",
   "id": "bf422524-b9a1-4000-bd96-8b24af8a0949",
   "metadata": {},
   "source": [
    "# EEG - Flow\n",
    "\n",
    "## 5. ICA select\n",
    "\n",
    "Last edit: 21.06.2023 19:24"
   ]
  },
  {
   "cell_type": "code",
   "execution_count": 1,
   "id": "57e0632e-0bd8-4006-a4b5-6965d6562be7",
   "metadata": {
    "tags": []
   },
   "outputs": [
    {
     "name": "stderr",
     "output_type": "stream",
     "text": [
      "2024-05-10 11:02:44,479 - numexpr.utils - INFO - Note: NumExpr detected 16 cores but \"NUMEXPR_MAX_THREADS\" not set, so enforcing safe limit of 8.\n",
      "2024-05-10 11:02:44,481 - numexpr.utils - INFO - NumExpr defaulting to 8 threads.\n"
     ]
    }
   ],
   "source": [
    "from mne import set_log_level as set_log_level_mne\n",
    "from mne.viz import set_browser_backend\n",
    "\n",
    "from eeg_flow import set_log_level\n",
    "from eeg_flow.tasks import label_components"
   ]
  },
  {
   "cell_type": "code",
   "execution_count": 2,
   "id": "a2a95018-7a7a-4ea5-80b8-10e0a665c42c",
   "metadata": {
    "tags": []
   },
   "outputs": [],
   "source": [
    "set_log_level_mne(\"WARNING\")\n",
    "set_log_level(\"INFO\")\n",
    "\n",
    "%matplotlib qt\n",
    "set_browser_backend(\"qt\")"
   ]
  },
  {
   "cell_type": "markdown",
   "id": "533deaff-b830-46cb-9878-f75561aa4c75",
   "metadata": {},
   "source": [
    "The parameters of the file to process are defined below. Locks are created to prevent someone else from running the same task and from writing the same derivatives."
   ]
  },
  {
   "cell_type": "code",
   "execution_count": 37,
   "id": "a6e631d9-7f8b-4c42-bc56-e6b6ae630434",
   "metadata": {
    "tags": []
   },
   "outputs": [],
   "source": [
    "PARTICIPANT: str = \"P24\"  # e.g. \"P02\"\n",
    "GROUP: str       = \"G8\"  # e.g. \"G2\"\n",
    "TASK: str        = \"UT\"  # \"oddball\" or \"UT\"\n",
    "RUN: int         = 2  # 1 or 2"
   ]
  },
  {
   "cell_type": "markdown",
   "id": "55d84d8f-4584-4731-ad20-40a7fed86576",
   "metadata": {},
   "source": [
    "This step is divided in annotation of the first ICA (for mastoids) and annotation of the second ICA (for EEG).\n",
    "\n",
    "The first ICA's goal is to remove noise present on the mastoids (reference). Any artifact topographies that do not impact the mastoids are disregarded. Typically, heartbeat or muscle noise can affect the mastoids.\n",
    "\n",
    "The second ICA is fitted on data without the mastoids. The goal is now to remove noise on the EEG channels.\n",
    "\n",
    "The created derivatives are:\n",
    "- ICA decomposition labelled used to clean-up mastoids (`_step5_1st_{reviewer}_ica.fif`)\n",
    "- ICA decomposition labelled used to clean-up signal (`_step5_2nd_{reviewer}_ica.fif`)\n",
    "- Plots of the ICA topographies (in `plots/ica`)\n",
    "\n",
    "### Interactive selection\n",
    "\n",
    "In both cases, the selection should be done on the 2D data browser by marking as \"bads\" the traces (time-series) of each ICs to reject. The selection by selecting the name of the ICs to reject is disabled on the topographies."
   ]
  },
  {
   "cell_type": "code",
   "execution_count": 38,
   "id": "6d599b8c-04c2-4ba0-972f-752a5a33a62a",
   "metadata": {
    "tags": []
   },
   "outputs": [
    {
     "name": "stderr",
     "output_type": "stream",
     "text": [
      "2024-05-10 13:27:31,513 - qdarkstyle - INFO - QSS file successfully loaded.\n",
      "2024-05-10 13:27:31,514 - qdarkstyle - INFO - Found version patches to be applied.\n",
      "2024-05-10 13:27:31,514 - qdarkstyle - INFO - Found application patches to be applied.\n"
     ]
    },
    {
     "name": "stdout",
     "output_type": "stream",
     "text": [
      "Not setting metadata\n",
      "464 matching events found\n",
      "No baseline correction applied\n",
      "0 projection items activated\n"
     ]
    },
    {
     "name": "stderr",
     "output_type": "stream",
     "text": [
      "2024-05-10 13:28:36,589 - qdarkstyle - INFO - QSS file successfully loaded.\n",
      "2024-05-10 13:28:36,590 - qdarkstyle - INFO - Found version patches to be applied.\n",
      "2024-05-10 13:28:36,591 - qdarkstyle - INFO - Found application patches to be applied.\n"
     ]
    },
    {
     "name": "stdout",
     "output_type": "stream",
     "text": [
      "Not setting metadata\n",
      "464 matching events found\n",
      "No baseline correction applied\n",
      "0 projection items activated\n",
      "Not setting metadata\n",
      "464 matching events found\n",
      "No baseline correction applied\n",
      "0 projection items activated\n",
      "Not setting metadata\n",
      "464 matching events found\n",
      "No baseline correction applied\n",
      "0 projection items activated\n",
      "[ica_decomposition.label_components] INFO: Saving derivatives.\n"
     ]
    }
   ],
   "source": [
    "label_components(PARTICIPANT, GROUP, TASK, RUN)"
   ]
  },
  {
   "cell_type": "code",
   "execution_count": null,
   "id": "70575fe9-a8e9-4351-8e9e-46e9a79f10af",
   "metadata": {},
   "outputs": [],
   "source": []
  }
 ],
 "metadata": {
  "kernelspec": {
   "display_name": "eeg-flow",
   "language": "python",
   "name": "eeg-flow"
  },
  "language_info": {
   "codemirror_mode": {
    "name": "ipython",
    "version": 3
   },
   "file_extension": ".py",
   "mimetype": "text/x-python",
   "name": "python",
   "nbconvert_exporter": "python",
   "pygments_lexer": "ipython3",
   "version": "3.10.11"
  }
 },
 "nbformat": 4,
 "nbformat_minor": 5
}
